{
  "nbformat": 4,
  "nbformat_minor": 0,
  "metadata": {
    "colab": {
      "provenance": [],
      "gpuType": "T4"
    },
    "kernelspec": {
      "name": "python3",
      "display_name": "Python 3"
    },
    "language_info": {
      "name": "python"
    },
    "accelerator": "GPU"
  },
  "cells": [
    {
      "cell_type": "code",
      "source": [
        "!apt-get update\n",
        "!apt-get install openjdk-11-jdk-headless -qq > /dev/null  # Install Java 11\n",
        "!wget -qO - https://archive.apache.org/dist/spark/spark-3.5.5/spark-3.5.5-bin-hadoop3.tgz | tar xzf - -C /opt/  # Install Spark 3.5.5\n",
        "!pip install findspark  # Install findspark to locate Spark\n"
      ],
      "metadata": {
        "colab": {
          "base_uri": "https://localhost:8080/"
        },
        "id": "GWX5_oO1o6b-",
        "outputId": "463d895f-ea09-41e6-aae2-33ebb784f290"
      },
      "execution_count": 1,
      "outputs": [
        {
          "output_type": "stream",
          "name": "stdout",
          "text": [
            "\r0% [Working]\r            \rGet:1 https://cloud.r-project.org/bin/linux/ubuntu jammy-cran40/ InRelease [3,632 B]\n",
            "\r0% [Connecting to archive.ubuntu.com (185.125.190.81)] [Waiting for headers] [1 InRelease 0 B/3,632 \r0% [Connecting to archive.ubuntu.com (185.125.190.81)] [Waiting for headers] [Connected to r2u.stat.\r                                                                                                    \rGet:2 https://developer.download.nvidia.com/compute/cuda/repos/ubuntu2204/x86_64  InRelease [1,581 B]\n",
            "Get:3 http://security.ubuntu.com/ubuntu jammy-security InRelease [129 kB]\n",
            "Hit:4 http://archive.ubuntu.com/ubuntu jammy InRelease\n",
            "Get:5 https://r2u.stat.illinois.edu/ubuntu jammy InRelease [6,555 B]\n",
            "Get:6 https://developer.download.nvidia.com/compute/cuda/repos/ubuntu2204/x86_64  Packages [1,369 kB]\n",
            "Get:7 http://archive.ubuntu.com/ubuntu jammy-updates InRelease [128 kB]\n",
            "Hit:8 https://ppa.launchpadcontent.net/deadsnakes/ppa/ubuntu jammy InRelease\n",
            "Get:9 https://r2u.stat.illinois.edu/ubuntu jammy/main all Packages [8,730 kB]\n",
            "Hit:10 https://ppa.launchpadcontent.net/graphics-drivers/ppa/ubuntu jammy InRelease\n",
            "Hit:11 https://ppa.launchpadcontent.net/ubuntugis/ppa/ubuntu jammy InRelease\n",
            "Get:12 http://security.ubuntu.com/ubuntu jammy-security/restricted amd64 Packages [3,774 kB]\n",
            "Get:13 http://archive.ubuntu.com/ubuntu jammy-backports InRelease [127 kB]\n",
            "Get:14 http://security.ubuntu.com/ubuntu jammy-security/multiverse amd64 Packages [56.4 kB]\n",
            "Get:15 http://security.ubuntu.com/ubuntu jammy-security/main amd64 Packages [2,682 kB]\n",
            "Get:16 https://r2u.stat.illinois.edu/ubuntu jammy/main amd64 Packages [2,668 kB]\n",
            "Get:17 http://archive.ubuntu.com/ubuntu jammy-updates/universe amd64 Packages [1,533 kB]\n",
            "Get:18 http://archive.ubuntu.com/ubuntu jammy-updates/multiverse amd64 Packages [64.2 kB]\n",
            "Get:19 http://archive.ubuntu.com/ubuntu jammy-updates/main amd64 Packages [2,988 kB]\n",
            "Get:20 http://archive.ubuntu.com/ubuntu jammy-updates/restricted amd64 Packages [3,934 kB]\n",
            "Fetched 28.2 MB in 6s (4,687 kB/s)\n",
            "Reading package lists... Done\n",
            "W: Skipping acquire of configured file 'main/source/Sources' as repository 'https://r2u.stat.illinois.edu/ubuntu jammy InRelease' does not seem to provide it (sources.list entry misspelt?)\n",
            "Collecting findspark\n",
            "  Downloading findspark-2.0.1-py2.py3-none-any.whl.metadata (352 bytes)\n",
            "Downloading findspark-2.0.1-py2.py3-none-any.whl (4.4 kB)\n",
            "Installing collected packages: findspark\n",
            "Successfully installed findspark-2.0.1\n"
          ]
        }
      ]
    },
    {
      "cell_type": "code",
      "execution_count": 3,
      "metadata": {
        "id": "-k3t6Mqzo4DR"
      },
      "outputs": [],
      "source": [
        "!export SPARK_HOME=/opt/spark-3.5.5-bin-hadoop3\n",
        "!export PATH=$SPARK_HOME/bin:$PATH\n",
        "!export PYTHONPATH=$SPARK_HOME/python:$PYTHONPATH\n"
      ]
    },
    {
      "cell_type": "code",
      "source": [
        "import os\n",
        "os.environ[\"JAVA_HOME\"] = \"/usr/lib/jvm/java-11-openjdk-amd64\"\n",
        "os.environ[\"SPARK_HOME\"] = \"/content/spark-3.5.5-bin-hadoop3\"\n"
      ],
      "metadata": {
        "id": "7YiIm6TkqVaP"
      },
      "execution_count": 4,
      "outputs": []
    },
    {
      "cell_type": "code",
      "source": [
        "!apt-get update\n",
        "!apt-get install openjdk-11-jdk-headless -qq > /dev/null\n"
      ],
      "metadata": {
        "colab": {
          "base_uri": "https://localhost:8080/"
        },
        "id": "Ik4zxcRlqYK2",
        "outputId": "3d23cc38-b533-4d82-eee3-bc8455419a49"
      },
      "execution_count": 8,
      "outputs": [
        {
          "output_type": "stream",
          "name": "stdout",
          "text": [
            "\r0% [Working]\r            \rHit:1 https://cloud.r-project.org/bin/linux/ubuntu jammy-cran40/ InRelease\n",
            "\r0% [Connecting to archive.ubuntu.com] [Connecting to security.ubuntu.com (91.189.91.82)] [Connecting\r                                                                                                    \rHit:2 https://developer.download.nvidia.com/compute/cuda/repos/ubuntu2204/x86_64  InRelease\n",
            "Hit:3 http://security.ubuntu.com/ubuntu jammy-security InRelease\n",
            "Hit:4 http://archive.ubuntu.com/ubuntu jammy InRelease\n",
            "Hit:5 http://archive.ubuntu.com/ubuntu jammy-updates InRelease\n",
            "Hit:6 https://r2u.stat.illinois.edu/ubuntu jammy InRelease\n",
            "Hit:7 http://archive.ubuntu.com/ubuntu jammy-backports InRelease\n",
            "Hit:8 https://ppa.launchpadcontent.net/deadsnakes/ppa/ubuntu jammy InRelease\n",
            "Hit:9 https://ppa.launchpadcontent.net/graphics-drivers/ppa/ubuntu jammy InRelease\n",
            "Hit:10 https://ppa.launchpadcontent.net/ubuntugis/ppa/ubuntu jammy InRelease\n",
            "Reading package lists... Done\n",
            "W: Skipping acquire of configured file 'main/source/Sources' as repository 'https://r2u.stat.illinois.edu/ubuntu jammy InRelease' does not seem to provide it (sources.list entry misspelt?)\n"
          ]
        }
      ]
    },
    {
      "cell_type": "code",
      "source": [
        "!pip install pyspark\n"
      ],
      "metadata": {
        "colab": {
          "base_uri": "https://localhost:8080/"
        },
        "id": "38dFMC9yrF9-",
        "outputId": "1517890c-e4ea-4e22-ca52-ecbc1ff92145"
      },
      "execution_count": 9,
      "outputs": [
        {
          "output_type": "stream",
          "name": "stdout",
          "text": [
            "Requirement already satisfied: pyspark in /usr/local/lib/python3.11/dist-packages (3.5.5)\n",
            "Requirement already satisfied: py4j==0.10.9.7 in /usr/local/lib/python3.11/dist-packages (from pyspark) (0.10.9.7)\n"
          ]
        }
      ]
    },
    {
      "cell_type": "code",
      "source": [
        "!pip install pyspark\n"
      ],
      "metadata": {
        "colab": {
          "base_uri": "https://localhost:8080/"
        },
        "id": "cBzsDrGcrK4N",
        "outputId": "267b0732-f8ba-4fdc-887b-e532c2a34f8f"
      },
      "execution_count": 1,
      "outputs": [
        {
          "output_type": "stream",
          "name": "stdout",
          "text": [
            "Requirement already satisfied: pyspark in /usr/local/lib/python3.11/dist-packages (3.5.5)\n",
            "Requirement already satisfied: py4j==0.10.9.7 in /usr/local/lib/python3.11/dist-packages (from pyspark) (0.10.9.7)\n"
          ]
        }
      ]
    },
    {
      "cell_type": "code",
      "source": [
        "from pyspark.sql import SparkSession\n",
        "\n",
        "spark = SparkSession.builder \\\n",
        "    .appName(\"PokemonFeistinessAnalysis\") \\\n",
        "    .getOrCreate()\n",
        "\n",
        "print(\"✅ Spark Initialized Successfully!\")\n"
      ],
      "metadata": {
        "id": "TbFanktrsPaw",
        "outputId": "c2f727af-6e22-47ab-9660-e812e9024c70",
        "colab": {
          "base_uri": "https://localhost:8080/"
        }
      },
      "execution_count": 2,
      "outputs": [
        {
          "output_type": "stream",
          "name": "stdout",
          "text": [
            "✅ Spark Initialized Successfully!\n"
          ]
        }
      ]
    },
    {
      "cell_type": "code",
      "source": [
        "from google.colab import files\n",
        "uploaded = files.upload()\n"
      ],
      "metadata": {
        "id": "AZAQvZAisgTb",
        "outputId": "6e2a6dff-22ee-45c9-fab5-8bf7e4e720da",
        "colab": {
          "base_uri": "https://localhost:8080/",
          "height": 73
        }
      },
      "execution_count": 3,
      "outputs": [
        {
          "output_type": "display_data",
          "data": {
            "text/plain": [
              "<IPython.core.display.HTML object>"
            ],
            "text/html": [
              "\n",
              "     <input type=\"file\" id=\"files-5a21ec96-9a55-4ab1-9501-d059b87ee0cf\" name=\"files[]\" multiple disabled\n",
              "        style=\"border:none\" />\n",
              "     <output id=\"result-5a21ec96-9a55-4ab1-9501-d059b87ee0cf\">\n",
              "      Upload widget is only available when the cell has been executed in the\n",
              "      current browser session. Please rerun this cell to enable.\n",
              "      </output>\n",
              "      <script>// Copyright 2017 Google LLC\n",
              "//\n",
              "// Licensed under the Apache License, Version 2.0 (the \"License\");\n",
              "// you may not use this file except in compliance with the License.\n",
              "// You may obtain a copy of the License at\n",
              "//\n",
              "//      http://www.apache.org/licenses/LICENSE-2.0\n",
              "//\n",
              "// Unless required by applicable law or agreed to in writing, software\n",
              "// distributed under the License is distributed on an \"AS IS\" BASIS,\n",
              "// WITHOUT WARRANTIES OR CONDITIONS OF ANY KIND, either express or implied.\n",
              "// See the License for the specific language governing permissions and\n",
              "// limitations under the License.\n",
              "\n",
              "/**\n",
              " * @fileoverview Helpers for google.colab Python module.\n",
              " */\n",
              "(function(scope) {\n",
              "function span(text, styleAttributes = {}) {\n",
              "  const element = document.createElement('span');\n",
              "  element.textContent = text;\n",
              "  for (const key of Object.keys(styleAttributes)) {\n",
              "    element.style[key] = styleAttributes[key];\n",
              "  }\n",
              "  return element;\n",
              "}\n",
              "\n",
              "// Max number of bytes which will be uploaded at a time.\n",
              "const MAX_PAYLOAD_SIZE = 100 * 1024;\n",
              "\n",
              "function _uploadFiles(inputId, outputId) {\n",
              "  const steps = uploadFilesStep(inputId, outputId);\n",
              "  const outputElement = document.getElementById(outputId);\n",
              "  // Cache steps on the outputElement to make it available for the next call\n",
              "  // to uploadFilesContinue from Python.\n",
              "  outputElement.steps = steps;\n",
              "\n",
              "  return _uploadFilesContinue(outputId);\n",
              "}\n",
              "\n",
              "// This is roughly an async generator (not supported in the browser yet),\n",
              "// where there are multiple asynchronous steps and the Python side is going\n",
              "// to poll for completion of each step.\n",
              "// This uses a Promise to block the python side on completion of each step,\n",
              "// then passes the result of the previous step as the input to the next step.\n",
              "function _uploadFilesContinue(outputId) {\n",
              "  const outputElement = document.getElementById(outputId);\n",
              "  const steps = outputElement.steps;\n",
              "\n",
              "  const next = steps.next(outputElement.lastPromiseValue);\n",
              "  return Promise.resolve(next.value.promise).then((value) => {\n",
              "    // Cache the last promise value to make it available to the next\n",
              "    // step of the generator.\n",
              "    outputElement.lastPromiseValue = value;\n",
              "    return next.value.response;\n",
              "  });\n",
              "}\n",
              "\n",
              "/**\n",
              " * Generator function which is called between each async step of the upload\n",
              " * process.\n",
              " * @param {string} inputId Element ID of the input file picker element.\n",
              " * @param {string} outputId Element ID of the output display.\n",
              " * @return {!Iterable<!Object>} Iterable of next steps.\n",
              " */\n",
              "function* uploadFilesStep(inputId, outputId) {\n",
              "  const inputElement = document.getElementById(inputId);\n",
              "  inputElement.disabled = false;\n",
              "\n",
              "  const outputElement = document.getElementById(outputId);\n",
              "  outputElement.innerHTML = '';\n",
              "\n",
              "  const pickedPromise = new Promise((resolve) => {\n",
              "    inputElement.addEventListener('change', (e) => {\n",
              "      resolve(e.target.files);\n",
              "    });\n",
              "  });\n",
              "\n",
              "  const cancel = document.createElement('button');\n",
              "  inputElement.parentElement.appendChild(cancel);\n",
              "  cancel.textContent = 'Cancel upload';\n",
              "  const cancelPromise = new Promise((resolve) => {\n",
              "    cancel.onclick = () => {\n",
              "      resolve(null);\n",
              "    };\n",
              "  });\n",
              "\n",
              "  // Wait for the user to pick the files.\n",
              "  const files = yield {\n",
              "    promise: Promise.race([pickedPromise, cancelPromise]),\n",
              "    response: {\n",
              "      action: 'starting',\n",
              "    }\n",
              "  };\n",
              "\n",
              "  cancel.remove();\n",
              "\n",
              "  // Disable the input element since further picks are not allowed.\n",
              "  inputElement.disabled = true;\n",
              "\n",
              "  if (!files) {\n",
              "    return {\n",
              "      response: {\n",
              "        action: 'complete',\n",
              "      }\n",
              "    };\n",
              "  }\n",
              "\n",
              "  for (const file of files) {\n",
              "    const li = document.createElement('li');\n",
              "    li.append(span(file.name, {fontWeight: 'bold'}));\n",
              "    li.append(span(\n",
              "        `(${file.type || 'n/a'}) - ${file.size} bytes, ` +\n",
              "        `last modified: ${\n",
              "            file.lastModifiedDate ? file.lastModifiedDate.toLocaleDateString() :\n",
              "                                    'n/a'} - `));\n",
              "    const percent = span('0% done');\n",
              "    li.appendChild(percent);\n",
              "\n",
              "    outputElement.appendChild(li);\n",
              "\n",
              "    const fileDataPromise = new Promise((resolve) => {\n",
              "      const reader = new FileReader();\n",
              "      reader.onload = (e) => {\n",
              "        resolve(e.target.result);\n",
              "      };\n",
              "      reader.readAsArrayBuffer(file);\n",
              "    });\n",
              "    // Wait for the data to be ready.\n",
              "    let fileData = yield {\n",
              "      promise: fileDataPromise,\n",
              "      response: {\n",
              "        action: 'continue',\n",
              "      }\n",
              "    };\n",
              "\n",
              "    // Use a chunked sending to avoid message size limits. See b/62115660.\n",
              "    let position = 0;\n",
              "    do {\n",
              "      const length = Math.min(fileData.byteLength - position, MAX_PAYLOAD_SIZE);\n",
              "      const chunk = new Uint8Array(fileData, position, length);\n",
              "      position += length;\n",
              "\n",
              "      const base64 = btoa(String.fromCharCode.apply(null, chunk));\n",
              "      yield {\n",
              "        response: {\n",
              "          action: 'append',\n",
              "          file: file.name,\n",
              "          data: base64,\n",
              "        },\n",
              "      };\n",
              "\n",
              "      let percentDone = fileData.byteLength === 0 ?\n",
              "          100 :\n",
              "          Math.round((position / fileData.byteLength) * 100);\n",
              "      percent.textContent = `${percentDone}% done`;\n",
              "\n",
              "    } while (position < fileData.byteLength);\n",
              "  }\n",
              "\n",
              "  // All done.\n",
              "  yield {\n",
              "    response: {\n",
              "      action: 'complete',\n",
              "    }\n",
              "  };\n",
              "}\n",
              "\n",
              "scope.google = scope.google || {};\n",
              "scope.google.colab = scope.google.colab || {};\n",
              "scope.google.colab._files = {\n",
              "  _uploadFiles,\n",
              "  _uploadFilesContinue,\n",
              "};\n",
              "})(self);\n",
              "</script> "
            ]
          },
          "metadata": {}
        },
        {
          "output_type": "stream",
          "name": "stdout",
          "text": [
            "Saving archive (1).zip to archive (1).zip\n"
          ]
        }
      ]
    },
    {
      "cell_type": "code",
      "source": [
        "!unzip \"/content/archive (1).zip\" -d \"/content/pkeman dataset\"\n"
      ],
      "metadata": {
        "id": "AX_r_n1UtEZR",
        "outputId": "15c47038-3b14-4ebf-cd18-b0f5d18263ae",
        "colab": {
          "base_uri": "https://localhost:8080/"
        }
      },
      "execution_count": 4,
      "outputs": [
        {
          "output_type": "stream",
          "name": "stdout",
          "text": [
            "Archive:  /content/archive (1).zip\n",
            "  inflating: /content/pkeman dataset/pokemon.csv  \n"
          ]
        }
      ]
    },
    {
      "cell_type": "code",
      "source": [
        "import pandas as pd\n",
        "\n",
        "# Read CSV using Pandas\n",
        "df = pd.read_csv(\"/content/pkeman dataset/pokemon.csv\")  # Change this if your filename is different\n",
        "\n",
        "# Convert Pandas DataFrame to Spark DataFrame\n",
        "spark_df = spark.createDataFrame(df)\n",
        "\n",
        "# Show first few rows\n",
        "spark_df.show(5)\n"
      ],
      "metadata": {
        "id": "mtdXYlUMtmA_",
        "outputId": "fae229ba-e7f7-4631-dda6-6c3d04467f43",
        "colab": {
          "base_uri": "https://localhost:8080/"
        }
      },
      "execution_count": 5,
      "outputs": [
        {
          "output_type": "stream",
          "name": "stdout",
          "text": [
            "+--------------------+-----------+------------+--------------+----------------+-------------+-------------+------------+--------------+-------------+-------------+--------------+-----------+--------------+--------------+---------------+------------+-------------+-------------+------+--------------+--------------+----------+------------+--------------+-------+-----------------+--------+---+---------------------+----------+---------------+--------------+---------+----------+-----+-----+------+---------+----------+------------+\n",
            "|           abilities|against_bug|against_dark|against_dragon|against_electric|against_fairy|against_fight|against_fire|against_flying|against_ghost|against_grass|against_ground|against_ice|against_normal|against_poison|against_psychic|against_rock|against_steel|against_water|attack|base_egg_steps|base_happiness|base_total|capture_rate| classfication|defense|experience_growth|height_m| hp|        japanese_name|      name|percentage_male|pokedex_number|sp_attack|sp_defense|speed|type1| type2|weight_kg|generation|is_legendary|\n",
            "+--------------------+-----------+------------+--------------+----------------+-------------+-------------+------------+--------------+-------------+-------------+--------------+-----------+--------------+--------------+---------------+------------+-------------+-------------+------+--------------+--------------+----------+------------+--------------+-------+-----------------+--------+---+---------------------+----------+---------------+--------------+---------+----------+-----+-----+------+---------+----------+------------+\n",
            "|['Overgrow', 'Chl...|        1.0|         1.0|           1.0|             0.5|          0.5|          0.5|         2.0|           2.0|          1.0|         0.25|           1.0|        2.0|           1.0|           1.0|            2.0|         1.0|          1.0|          0.5|    49|          5120|            70|       318|          45|  Seed Pokémon|     49|          1059860|     0.7| 45|Fushigidaneフシギダネ| Bulbasaur|           88.1|             1|       65|        65|   45|grass|poison|      6.9|         1|           0|\n",
            "|['Overgrow', 'Chl...|        1.0|         1.0|           1.0|             0.5|          0.5|          0.5|         2.0|           2.0|          1.0|         0.25|           1.0|        2.0|           1.0|           1.0|            2.0|         1.0|          1.0|          0.5|    62|          5120|            70|       405|          45|  Seed Pokémon|     63|          1059860|     1.0| 60| Fushigisouフシギソウ|   Ivysaur|           88.1|             2|       80|        80|   60|grass|poison|     13.0|         1|           0|\n",
            "|['Overgrow', 'Chl...|        1.0|         1.0|           1.0|             0.5|          0.5|          0.5|         2.0|           2.0|          1.0|         0.25|           1.0|        2.0|           1.0|           1.0|            2.0|         1.0|          1.0|          0.5|   100|          5120|            70|       625|          45|  Seed Pokémon|    123|          1059860|     2.0| 80|Fushigibanaフシギバナ|  Venusaur|           88.1|             3|      122|       120|   80|grass|poison|    100.0|         1|           0|\n",
            "|['Blaze', 'Solar ...|        0.5|         1.0|           1.0|             1.0|          0.5|          1.0|         0.5|           1.0|          1.0|          0.5|           2.0|        0.5|           1.0|           1.0|            1.0|         2.0|          0.5|          2.0|    52|          5120|            70|       309|          45|Lizard Pokémon|     43|          1059860|     0.6| 39|     Hitokageヒトカゲ|Charmander|           88.1|             4|       60|        50|   65| fire|   NaN|      8.5|         1|           0|\n",
            "|['Blaze', 'Solar ...|        0.5|         1.0|           1.0|             1.0|          0.5|          1.0|         0.5|           1.0|          1.0|          0.5|           2.0|        0.5|           1.0|           1.0|            1.0|         2.0|          0.5|          2.0|    64|          5120|            70|       405|          45| Flame Pokémon|     58|          1059860|     1.1| 58|      Lizardoリザード|Charmeleon|           88.1|             5|       80|        65|   80| fire|   NaN|     19.0|         1|           0|\n",
            "+--------------------+-----------+------------+--------------+----------------+-------------+-------------+------------+--------------+-------------+-------------+--------------+-----------+--------------+--------------+---------------+------------+-------------+-------------+------+--------------+--------------+----------+------------+--------------+-------+-----------------+--------+---+---------------------+----------+---------------+--------------+---------+----------+-----+-----+------+---------+----------+------------+\n",
            "only showing top 5 rows\n",
            "\n"
          ]
        }
      ]
    },
    {
      "cell_type": "code",
      "source": [
        "# Fix column names\n",
        "for col_name in spark_df.columns:\n",
        "    spark_df = spark_df.withColumnRenamed(col_name, col_name.strip().lower())\n"
      ],
      "metadata": {
        "id": "qcWtr8zSt6gA"
      },
      "execution_count": 6,
      "outputs": []
    },
    {
      "cell_type": "code",
      "source": [
        "spark_df.printSchema()\n"
      ],
      "metadata": {
        "id": "HY1i8KFXt9T_",
        "outputId": "91c6e674-fcf4-4ce6-da53-c9765afb50fa",
        "colab": {
          "base_uri": "https://localhost:8080/"
        }
      },
      "execution_count": 7,
      "outputs": [
        {
          "output_type": "stream",
          "name": "stdout",
          "text": [
            "root\n",
            " |-- abilities: string (nullable = true)\n",
            " |-- against_bug: double (nullable = true)\n",
            " |-- against_dark: double (nullable = true)\n",
            " |-- against_dragon: double (nullable = true)\n",
            " |-- against_electric: double (nullable = true)\n",
            " |-- against_fairy: double (nullable = true)\n",
            " |-- against_fight: double (nullable = true)\n",
            " |-- against_fire: double (nullable = true)\n",
            " |-- against_flying: double (nullable = true)\n",
            " |-- against_ghost: double (nullable = true)\n",
            " |-- against_grass: double (nullable = true)\n",
            " |-- against_ground: double (nullable = true)\n",
            " |-- against_ice: double (nullable = true)\n",
            " |-- against_normal: double (nullable = true)\n",
            " |-- against_poison: double (nullable = true)\n",
            " |-- against_psychic: double (nullable = true)\n",
            " |-- against_rock: double (nullable = true)\n",
            " |-- against_steel: double (nullable = true)\n",
            " |-- against_water: double (nullable = true)\n",
            " |-- attack: long (nullable = true)\n",
            " |-- base_egg_steps: long (nullable = true)\n",
            " |-- base_happiness: long (nullable = true)\n",
            " |-- base_total: long (nullable = true)\n",
            " |-- capture_rate: string (nullable = true)\n",
            " |-- classfication: string (nullable = true)\n",
            " |-- defense: long (nullable = true)\n",
            " |-- experience_growth: long (nullable = true)\n",
            " |-- height_m: double (nullable = true)\n",
            " |-- hp: long (nullable = true)\n",
            " |-- japanese_name: string (nullable = true)\n",
            " |-- name: string (nullable = true)\n",
            " |-- percentage_male: double (nullable = true)\n",
            " |-- pokedex_number: long (nullable = true)\n",
            " |-- sp_attack: long (nullable = true)\n",
            " |-- sp_defense: long (nullable = true)\n",
            " |-- speed: long (nullable = true)\n",
            " |-- type1: string (nullable = true)\n",
            " |-- type2: string (nullable = true)\n",
            " |-- weight_kg: double (nullable = true)\n",
            " |-- generation: long (nullable = true)\n",
            " |-- is_legendary: long (nullable = true)\n",
            "\n"
          ]
        }
      ]
    },
    {
      "cell_type": "code",
      "source": [
        "from pyspark.sql.functions import col, round, desc, row_number\n",
        "from pyspark.sql.window import Window\n",
        "\n",
        "# Ensure weight_kg and attack are not null or zero\n",
        "filtered_df = spark_df.filter(\n",
        "    (col(\"weight_kg\").isNotNull()) & (col(\"weight_kg\") > 0) & (col(\"attack\").isNotNull())\n",
        ")\n",
        "\n",
        "# Compute Feistiness\n",
        "feistiness_df = filtered_df.withColumn(\n",
        "    \"feistiness\", round(col(\"attack\") / col(\"weight_kg\"), 2)\n",
        ")\n",
        "\n",
        "# Find the feistiest Pokémon for each type1\n",
        "windowSpec = Window.partitionBy(\"type1\").orderBy(desc(\"feistiness\"))\n",
        "\n",
        "feistiest_pokemon = (\n",
        "    feistiness_df.withColumn(\"rank\", row_number().over(windowSpec))\n",
        "    .filter(col(\"rank\") == 1)\n",
        "    .select(\"type1\", \"type2\", \"name\", \"feistiness\")\n",
        ")\n",
        "\n",
        "# Show results\n",
        "feistiest_pokemon.show()\n"
      ],
      "metadata": {
        "id": "2qn5e8GVuIHh",
        "outputId": "9621152e-886e-496c-966e-3af60a65fc4a",
        "colab": {
          "base_uri": "https://localhost:8080/"
        }
      },
      "execution_count": 8,
      "outputs": [
        {
          "output_type": "stream",
          "name": "stdout",
          "text": [
            "+--------+--------+----------+----------+\n",
            "|   type1|   type2|      name|feistiness|\n",
            "+--------+--------+----------+----------+\n",
            "|     bug|   fairy|  Cutiefly|     225.0|\n",
            "|    dark|  flying|   Murkrow|     40.48|\n",
            "|  dragon|     NaN|   Dratini|     19.39|\n",
            "|electric|electric|    Raichu|       NaN|\n",
            "|   fairy|     NaN|   Flabébé|     380.0|\n",
            "|fighting|     NaN|Crabrawler|     11.71|\n",
            "|    fire|     ice|    Vulpix|       NaN|\n",
            "|  flying|  dragon|    Noibat|      3.75|\n",
            "|   ghost|  poison|   Haunter|     500.0|\n",
            "|   grass| psychic| Exeggutor|       NaN|\n",
            "|  ground|     ice| Sandshrew|       NaN|\n",
            "|     ice|     NaN| Vanillite|      8.77|\n",
            "|  normal|    dark|   Rattata|       NaN|\n",
            "|  poison|  poison|    Grimer|       NaN|\n",
            "| psychic|   ghost|     Hoopa|       NaN|\n",
            "|    rock|  ground|   Geodude|       NaN|\n",
            "|   steel| psychic|   Jirachi|     90.91|\n",
            "|   water|     NaN|Wishiwashi|    466.67|\n",
            "+--------+--------+----------+----------+\n",
            "\n"
          ]
        }
      ]
    },
    {
      "cell_type": "code",
      "source": [
        "from pyspark.sql.functions import col, round, desc, row_number\n",
        "from pyspark.sql.window import Window\n",
        "\n",
        "# Ensure weight_kg and attack are not null and weight_kg > 0\n",
        "filtered_df = spark_df.filter(\n",
        "    (col(\"weight_kg\").isNotNull()) &\n",
        "    (col(\"weight_kg\") > 0) &\n",
        "    (col(\"attack\").isNotNull())\n",
        ")\n",
        "\n",
        "# Compute Feistiness (Attack / Weight)\n",
        "feistiness_df = filtered_df.withColumn(\n",
        "    \"feistiness\", round(col(\"attack\") / col(\"weight_kg\"), 2)\n",
        ")\n",
        "\n",
        "# Find the feistiest Pokémon per type\n",
        "windowSpec = Window.partitionBy(\"type1\").orderBy(desc(\"feistiness\"))\n",
        "\n",
        "feistiest_pokemon = (\n",
        "    feistiness_df.withColumn(\"rank\", row_number().over(windowSpec))\n",
        "    .filter(col(\"rank\") == 1)\n",
        "    .select(\"type1\", \"type2\", \"name\", \"feistiness\")\n",
        ")\n",
        "\n",
        "# Show results\n",
        "feistiest_pokemon.show()\n"
      ],
      "metadata": {
        "id": "R7f_yROiuaeY",
        "outputId": "537bc9f8-f804-42c2-c9aa-7e559bd57044",
        "colab": {
          "base_uri": "https://localhost:8080/"
        }
      },
      "execution_count": 9,
      "outputs": [
        {
          "output_type": "stream",
          "name": "stdout",
          "text": [
            "+--------+--------+----------+----------+\n",
            "|   type1|   type2|      name|feistiness|\n",
            "+--------+--------+----------+----------+\n",
            "|     bug|   fairy|  Cutiefly|     225.0|\n",
            "|    dark|  flying|   Murkrow|     40.48|\n",
            "|  dragon|     NaN|   Dratini|     19.39|\n",
            "|electric|electric|    Raichu|       NaN|\n",
            "|   fairy|     NaN|   Flabébé|     380.0|\n",
            "|fighting|     NaN|Crabrawler|     11.71|\n",
            "|    fire|     ice|    Vulpix|       NaN|\n",
            "|  flying|  dragon|    Noibat|      3.75|\n",
            "|   ghost|  poison|   Haunter|     500.0|\n",
            "|   grass| psychic| Exeggutor|       NaN|\n",
            "|  ground|     ice| Sandshrew|       NaN|\n",
            "|     ice|     NaN| Vanillite|      8.77|\n",
            "|  normal|    dark|   Rattata|       NaN|\n",
            "|  poison|  poison|    Grimer|       NaN|\n",
            "| psychic|   ghost|     Hoopa|       NaN|\n",
            "|    rock|  ground|   Geodude|       NaN|\n",
            "|   steel| psychic|   Jirachi|     90.91|\n",
            "|   water|     NaN|Wishiwashi|    466.67|\n",
            "+--------+--------+----------+----------+\n",
            "\n"
          ]
        }
      ]
    },
    {
      "cell_type": "code",
      "source": [
        "filtered_df = spark_df.filter(\n",
        "    (col(\"weight_kg\").isNotNull()) &\n",
        "    (col(\"weight_kg\") > 0) &\n",
        "    (col(\"attack\").isNotNull())\n",
        ")\n",
        "\n",
        "# Drop any remaining rows with null feistiness\n",
        "filtered_df = filtered_df.na.drop(subset=[\"weight_kg\", \"attack\"])\n",
        "\n",
        "# Compute Feistiness\n",
        "feistiness_df = filtered_df.withColumn(\n",
        "    \"feistiness\", round(col(\"attack\") / col(\"weight_kg\"), 2)\n",
        ")\n",
        "\n",
        "# Find the feistiest Pokémon per type\n",
        "windowSpec = Window.partitionBy(\"type1\").orderBy(desc(\"feistiness\"))\n",
        "\n",
        "feistiest_pokemon = (\n",
        "    feistiness_df.withColumn(\"rank\", row_number().over(windowSpec))\n",
        "    .filter(col(\"rank\") == 1)\n",
        "    .select(\"type1\", \"type2\", \"name\", \"feistiness\")\n",
        ")\n",
        "\n",
        "# Show results\n",
        "feistiest_pokemon.show()\n"
      ],
      "metadata": {
        "id": "Q-Ea55h6x-Pt",
        "outputId": "e092df93-7a38-4688-a462-8c4a558ec8f3",
        "colab": {
          "base_uri": "https://localhost:8080/"
        }
      },
      "execution_count": 10,
      "outputs": [
        {
          "output_type": "stream",
          "name": "stdout",
          "text": [
            "+--------+-------+----------+----------+\n",
            "|   type1|  type2|      name|feistiness|\n",
            "+--------+-------+----------+----------+\n",
            "|     bug|  fairy|  Cutiefly|     225.0|\n",
            "|    dark| flying|   Murkrow|     40.48|\n",
            "|  dragon|    NaN|   Dratini|     19.39|\n",
            "|electric|  ghost|     Rotom|    216.67|\n",
            "|   fairy|    NaN|   Flabébé|     380.0|\n",
            "|fighting|    NaN|Crabrawler|     11.71|\n",
            "|    fire|    NaN|   Torchic|      24.0|\n",
            "|  flying| dragon|    Noibat|      3.75|\n",
            "|   ghost| poison|   Haunter|     500.0|\n",
            "|   grass|  steel|   Kartana|    1810.0|\n",
            "|  ground|    NaN|   Drilbur|      10.0|\n",
            "|     ice|    NaN| Vanillite|      8.77|\n",
            "|  normal|    NaN|  Castform|      87.5|\n",
            "|  poison|    NaN|   Koffing|      65.0|\n",
            "| psychic|    NaN|     Azelf|    416.67|\n",
            "|    rock|  fairy|   Diancie|     18.18|\n",
            "|   steel|psychic|   Jirachi|     90.91|\n",
            "|   water|    NaN|Wishiwashi|    466.67|\n",
            "+--------+-------+----------+----------+\n",
            "\n"
          ]
        }
      ]
    },
    {
      "cell_type": "code",
      "source": [
        "# Save results as CSV\n",
        "feistiest_pokemon.write.csv(\"feistiest_pokemon_final.csv\", header=True, mode=\"overwrite\")\n",
        "\n",
        "# Download the CSV file\n",
        "from google.colab import files\n",
        "files.download(\"feistiest_pokemon_final.csv\")\n"
      ],
      "metadata": {
        "id": "qB5MD56PyUHD",
        "outputId": "ca2ab25e-3854-4227-a0d0-3dff00bfeab0",
        "colab": {
          "base_uri": "https://localhost:8080/",
          "height": 34
        }
      },
      "execution_count": 11,
      "outputs": [
        {
          "output_type": "display_data",
          "data": {
            "text/plain": [
              "<IPython.core.display.Javascript object>"
            ],
            "application/javascript": [
              "\n",
              "    async function download(id, filename, size) {\n",
              "      if (!google.colab.kernel.accessAllowed) {\n",
              "        return;\n",
              "      }\n",
              "      const div = document.createElement('div');\n",
              "      const label = document.createElement('label');\n",
              "      label.textContent = `Downloading \"${filename}\": `;\n",
              "      div.appendChild(label);\n",
              "      const progress = document.createElement('progress');\n",
              "      progress.max = size;\n",
              "      div.appendChild(progress);\n",
              "      document.body.appendChild(div);\n",
              "\n",
              "      const buffers = [];\n",
              "      let downloaded = 0;\n",
              "\n",
              "      const channel = await google.colab.kernel.comms.open(id);\n",
              "      // Send a message to notify the kernel that we're ready.\n",
              "      channel.send({})\n",
              "\n",
              "      for await (const message of channel.messages) {\n",
              "        // Send a message to notify the kernel that we're ready.\n",
              "        channel.send({})\n",
              "        if (message.buffers) {\n",
              "          for (const buffer of message.buffers) {\n",
              "            buffers.push(buffer);\n",
              "            downloaded += buffer.byteLength;\n",
              "            progress.value = downloaded;\n",
              "          }\n",
              "        }\n",
              "      }\n",
              "      const blob = new Blob(buffers, {type: 'application/binary'});\n",
              "      const a = document.createElement('a');\n",
              "      a.href = window.URL.createObjectURL(blob);\n",
              "      a.download = filename;\n",
              "      div.appendChild(a);\n",
              "      a.click();\n",
              "      div.remove();\n",
              "    }\n",
              "  "
            ]
          },
          "metadata": {}
        },
        {
          "output_type": "display_data",
          "data": {
            "text/plain": [
              "<IPython.core.display.Javascript object>"
            ],
            "application/javascript": [
              "download(\"download_36c680b6-fc40-40ed-89e6-ecde9408b5a9\", \"feistiest_pokemon_final.csv\", 4096)"
            ]
          },
          "metadata": {}
        }
      ]
    }
  ]
}